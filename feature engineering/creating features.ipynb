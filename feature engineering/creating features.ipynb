{
 "cells": [
  {
   "cell_type": "code",
   "execution_count": 1,
   "id": "d231b67b",
   "metadata": {},
   "outputs": [],
   "source": [
    "import numpy as np\n",
    "import pandas as pd\n",
    "from sklearn.model_selection import cross_val_score\n",
    "from xgboost import XGBRegressor\n",
    "\n",
    "\n",
    "def score_dataset(X, y, model=XGBRegressor()):\n",
    "    # Label encoding for categoricals\n",
    "    for colname in X.select_dtypes([\"category\", \"object\"]):\n",
    "        X[colname], _ = X[colname].factorize()\n",
    "    # Metric for Housing competition is RMSLE (Root Mean Squared Log Error)\n",
    "    score = cross_val_score(\n",
    "        model, X, y, cv=5, scoring=\"neg_mean_squared_log_error\",\n",
    "    )\n",
    "    score = -1 * score.mean()\n",
    "    score = np.sqrt(score)\n",
    "    return score"
   ]
  },
  {
   "cell_type": "code",
   "execution_count": 2,
   "id": "a281948d",
   "metadata": {},
   "outputs": [],
   "source": [
    "# Prepare data\n",
    "data = pd.read_csv(\"C:/Users/HP/Desktop/Kaggle Assignment/Feature Engineering/mutual info/ames.csv\")\n",
    "df=pd.DataFrame(data)\n",
    "X = df.copy()\n",
    "y = X.pop(\"SalePrice\")"
   ]
  },
  {
   "cell_type": "code",
   "execution_count": 3,
   "id": "3770acbd",
   "metadata": {},
   "outputs": [],
   "source": [
    "# 1) Create Mathematical Transforms\n",
    "# Create the following features:\n",
    "#   LivLotRatio: the ratio of GrLivArea to LotArea\n",
    "#   Spaciousness: the sum of FirstFlrSF and SecondFlrSF divided by TotRmsAbvGrd\n",
    "#   TotalOutsideSF: the sum of WoodDeckSF, OpenPorchSF, EnclosedPorch, Threeseasonporch, and ScreenPorch\n",
    "# YOUR CODE HERE\n",
    "X_1 = pd.DataFrame()  # dataframe to hold new features\n",
    "\n",
    "X_1[\"LivLotRatio\"] = df.GrLivArea / df.LotArea\n",
    "X_1[\"Spaciousness\"] = (df.FirstFlrSF + df.SecondFlrSF) / df.TotRmsAbvGrd\n",
    "X_1[\"TotalOutsideSF\"] = df.WoodDeckSF + df.OpenPorchSF + df.EnclosedPorch + df.Threeseasonporch + df.ScreenPorch"
   ]
  },
  {
   "cell_type": "code",
   "execution_count": 5,
   "id": "b70cea05",
   "metadata": {},
   "outputs": [],
   "source": [
    "X_3 = pd.DataFrame()\n",
    "\n",
    "# YOUR CODE HERE\n",
    "X_3[\"PorchTypes\"] = df[[ \"WoodDeckSF\", \"OpenPorchSF\", \"EnclosedPorch\", \"Threeseasonporch\", \"ScreenPorch\"]].gt(0).sum(axis=1)"
   ]
  },
  {
   "cell_type": "code",
   "execution_count": 6,
   "id": "788c7ad7",
   "metadata": {},
   "outputs": [],
   "source": [
    "# 4) Break Down a Categorical Feature\n",
    "# MSSubClass describes the type of a dwelling:\n",
    "df.MSSubClass.unique()\n",
    "\n",
    "# You can see that there is a more general categorization described (roughly) by the first word of each category. \n",
    "# Create a feature containing only these first words by splitting MSSubClass at the first underscore _. \n",
    "# (Hint: In the split method use an argument n=1.)\n",
    "X_4 = pd.DataFrame()\n",
    "\n",
    "X_4[\"MSClass\"] = df.MSSubClass.str.split(\"_\", n=1, expand=True)[0]"
   ]
  },
  {
   "cell_type": "code",
   "execution_count": 7,
   "id": "d598bbe4",
   "metadata": {},
   "outputs": [
    {
     "data": {
      "text/plain": [
       "0.1421271162458208"
      ]
     },
     "execution_count": 7,
     "metadata": {},
     "output_type": "execute_result"
    }
   ],
   "source": [
    "# 5) Use a Grouped Transform\n",
    "# The value of a home often depends on how it compares to typical homes in its neighborhood. \n",
    "# Create a feature MedNhbdArea that describes the median of GrLivArea grouped on Neighborhood.\n",
    "X_5 = pd.DataFrame()\n",
    "\n",
    "# YOUR CODE HERE\n",
    "X_5[\"MedNhbdArea\"] = (\n",
    "    df.groupby(\"Neighborhood\")  # for each Neighborhood\n",
    "    [\"GrLivArea\"]                 # select the GrLivArea\n",
    "    .transform(\"median\")         # and compute its median\n",
    ")\n",
    "\n",
    "# Now you've made your first new feature set! If you like, you can run the cell below to score the model \n",
    "# with all of your new features added:\n",
    "X_new = X.join([X_1, X_3, X_4, X_5])\n",
    "score_dataset(X_new, y)"
   ]
  },
  {
   "cell_type": "code",
   "execution_count": null,
   "id": "83d81409",
   "metadata": {},
   "outputs": [],
   "source": []
  }
 ],
 "metadata": {
  "kernelspec": {
   "display_name": "Python 3 (ipykernel)",
   "language": "python",
   "name": "python3"
  },
  "language_info": {
   "codemirror_mode": {
    "name": "ipython",
    "version": 3
   },
   "file_extension": ".py",
   "mimetype": "text/x-python",
   "name": "python",
   "nbconvert_exporter": "python",
   "pygments_lexer": "ipython3",
   "version": "3.9.7"
  }
 },
 "nbformat": 4,
 "nbformat_minor": 5
}
